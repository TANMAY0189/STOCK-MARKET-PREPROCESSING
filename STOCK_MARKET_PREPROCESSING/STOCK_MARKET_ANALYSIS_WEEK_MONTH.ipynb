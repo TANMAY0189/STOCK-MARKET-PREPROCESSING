{
 "cells": [
  {
   "cell_type": "code",
   "execution_count": 136,
   "metadata": {},
   "outputs": [],
   "source": [
    "import pandas as pd\n",
    "import numpy as np\n",
    "import datetime as dt\n",
    "from tqdm import tqdm\n",
    "import itertools"
   ]
  },
  {
   "cell_type": "markdown",
   "metadata": {},
   "source": [
    "## ENTER THE NAME OF THE FILE WITH EXTENSION"
   ]
  },
  {
   "cell_type": "code",
   "execution_count": 137,
   "metadata": {},
   "outputs": [],
   "source": [
    "file_name = '2019.xlsx'"
   ]
  },
  {
   "cell_type": "markdown",
   "metadata": {},
   "source": [
    "# LOAD THE DATASET"
   ]
  },
  {
   "cell_type": "code",
   "execution_count": 138,
   "metadata": {},
   "outputs": [],
   "source": [
    "df = pd.read_excel(file_name)                        \n",
    "pd.options.display.float_format = '{:.2f}'.format\n",
    "date = df['DATE']\n",
    "df = df.set_index(df['DATE'])\n",
    "df = df.drop(columns = ['DATE'])"
   ]
  },
  {
   "cell_type": "markdown",
   "metadata": {},
   "source": [
    "# PREREQUISITES\n",
    "\n",
    "### 1] WEEKDAY NUMBER\n",
    "### 2] WEEK NUMBER\n",
    "### 3] MONTH NUMBER"
   ]
  },
  {
   "cell_type": "code",
   "execution_count": 139,
   "metadata": {},
   "outputs": [],
   "source": [
    "day = [int(i.strftime('%w')) for i in df.index]\n",
    "week = [int(i.strftime('%U')) for i in df.index]\n",
    "month = [int(i.strftime('%m')) for i in df.index]"
   ]
  },
  {
   "cell_type": "code",
   "execution_count": 140,
   "metadata": {},
   "outputs": [],
   "source": [
    "df.insert(0,'DAY',day)\n",
    "df.insert(1,'WEEK',week)\n",
    "df.insert(2,'MONTH',month)"
   ]
  },
  {
   "cell_type": "markdown",
   "metadata": {},
   "source": [
    "## FIND INDEX"
   ]
  },
  {
   "cell_type": "markdown",
   "metadata": {},
   "source": [
    "### 1] MONTH"
   ]
  },
  {
   "cell_type": "code",
   "execution_count": 141,
   "metadata": {},
   "outputs": [],
   "source": [
    "month_values = list(df['MONTH'].unique())\n",
    "month_index = [[] for i in range(len(month_values))]\n",
    "for i in range(len(month_values)):\n",
    "    for j in range(len(df)):\n",
    "        if (month_values[i] == df.iloc[j,2]):\n",
    "            month_index[i].append(j)"
   ]
  },
  {
   "cell_type": "markdown",
   "metadata": {},
   "source": [
    "### 2] WEEK"
   ]
  },
  {
   "cell_type": "code",
   "execution_count": 142,
   "metadata": {},
   "outputs": [],
   "source": [
    "week_values = list(df['WEEK'].unique())\n",
    "week_index = [[] for i in range(len(week_values))]\n",
    "for i in range(len(week_values)):        \n",
    "    for j in range(len(df)):\n",
    "        if (week_values[i] == df.iloc[j,1]):\n",
    "            week_index[i].append(j)"
   ]
  },
  {
   "cell_type": "markdown",
   "metadata": {},
   "source": [
    "# LOAD THE DATASET AGAIN"
   ]
  },
  {
   "cell_type": "code",
   "execution_count": 143,
   "metadata": {},
   "outputs": [],
   "source": [
    "data = pd.read_excel(file_name)             \n",
    "date = data['DATE']\n",
    "data = data.drop(columns = 'DATE')\n",
    "pd.options.display.float_format = '{:.2f}'.format\n",
    "date = list(date)\n",
    "col = list(data.columns)"
   ]
  },
  {
   "cell_type": "markdown",
   "metadata": {},
   "source": [
    "## REMOVING COMMAS FROM THE VALUES"
   ]
  },
  {
   "cell_type": "code",
   "execution_count": 144,
   "metadata": {},
   "outputs": [
    {
     "data": {
      "text/plain": [
       "0"
      ]
     },
     "execution_count": 144,
     "metadata": {},
     "output_type": "execute_result"
    }
   ],
   "source": [
    "index = [[j,col[i],data.iloc[j,i]] for i in range(len(col)) for j in range(len(data)) if (type(data.iloc[j,i]) is str)]                \n",
    "len(index)"
   ]
  },
  {
   "cell_type": "markdown",
   "metadata": {},
   "source": [
    "### IF THE ABOVE VALUE IS 0 , THEN PROCEED\n",
    "### IF NOT THEN OPEN THE CSV FILE ON WHICH WE ARE WORKING AND REMOVE THE COMMAS FROM THOSE VALUES "
   ]
  },
  {
   "cell_type": "markdown",
   "metadata": {},
   "source": [
    "## INDEX 1"
   ]
  },
  {
   "cell_type": "code",
   "execution_count": 145,
   "metadata": {},
   "outputs": [],
   "source": [
    "index = []\n",
    "index.append('DAILY STRIKE RATE')\n",
    "index.append('WEEK STRIKE RATE')\n",
    "index.append('MONTH STRIKE RATE')\n",
    "index.append('TOTAL PROFIT')\n",
    "for i in range(len(data)):\n",
    "    index.append(i)"
   ]
  },
  {
   "cell_type": "markdown",
   "metadata": {},
   "source": [
    "## INDEX 2"
   ]
  },
  {
   "cell_type": "code",
   "execution_count": 146,
   "metadata": {},
   "outputs": [],
   "source": [
    "new_index = []\n",
    "new_index.append('WEEKLY PROFIT')\n",
    "for i in week_values:\n",
    "    new_index.append(i)\n",
    "new_index.append('MONTHLY PROFIT')\n",
    "for i in month_values:\n",
    "    new_index.append(i)"
   ]
  },
  {
   "cell_type": "markdown",
   "metadata": {},
   "source": [
    "# SET_1"
   ]
  },
  {
   "cell_type": "code",
   "execution_count": 147,
   "metadata": {},
   "outputs": [],
   "source": [
    "SET_1 = pd.DataFrame(data = data)\n",
    "com = SET_1.columns"
   ]
  },
  {
   "cell_type": "markdown",
   "metadata": {},
   "source": [
    "## PROFIT"
   ]
  },
  {
   "cell_type": "markdown",
   "metadata": {},
   "source": [
    "### 1] DAILY"
   ]
  },
  {
   "cell_type": "code",
   "execution_count": 148,
   "metadata": {},
   "outputs": [
    {
     "name": "stderr",
     "output_type": "stream",
     "text": [
      "100%|██████████████████████████████████████████| 1/1 [00:00<00:00, 1001.98it/s]\n"
     ]
    }
   ],
   "source": [
    "SET_1_PROFIT_DAILY = []\n",
    "for i in tqdm(range(len(SET_1.columns))):\n",
    "    SET_1_PROFIT_DAILY.append(sum(SET_1.iloc[:,i]))"
   ]
  },
  {
   "cell_type": "markdown",
   "metadata": {},
   "source": [
    "### 2] WEEK"
   ]
  },
  {
   "cell_type": "code",
   "execution_count": 149,
   "metadata": {},
   "outputs": [
    {
     "name": "stderr",
     "output_type": "stream",
     "text": [
      "100%|████████████████████████████████████████████| 1/1 [00:00<00:00, 34.46it/s]\n"
     ]
    }
   ],
   "source": [
    "SET_1_PROFIT_WEEK = []\n",
    "for i in range(len(SET_1.columns)):\n",
    "    SET_1_PROFIT_WEEK.append([])\n",
    "\n",
    "for i in tqdm(range(len(SET_1.columns))):\n",
    "    for k in week_index:\n",
    "        SET_1_PROFIT_WEEK[i].append(sum(SET_1.iloc[k,i]))\n",
    "\n",
    "set_1_profit_week = pd.DataFrame(data = SET_1_PROFIT_WEEK)\n",
    "set_1_profit_week = set_1_profit_week.T \n",
    "set_1_profit_week = pd.DataFrame(data = set_1_profit_week)\n",
    "set_1_profit_week.columns = com"
   ]
  },
  {
   "cell_type": "markdown",
   "metadata": {},
   "source": [
    "### 3] MONTH"
   ]
  },
  {
   "cell_type": "code",
   "execution_count": 150,
   "metadata": {},
   "outputs": [
    {
     "name": "stderr",
     "output_type": "stream",
     "text": [
      "100%|███████████████████████████████████████████| 1/1 [00:00<00:00, 142.76it/s]\n"
     ]
    }
   ],
   "source": [
    "SET_1_PROFIT_MONTH = []\n",
    "for i in range(len(SET_1.columns)):\n",
    "    SET_1_PROFIT_MONTH.append([])    \n",
    "\n",
    "for i in tqdm(range(len(SET_1.columns))):\n",
    "    for k in month_index:\n",
    "        SET_1_PROFIT_MONTH[i].append(sum(SET_1.iloc[k,i]))\n",
    "\n",
    "set_1_profit_month = pd.DataFrame(data = SET_1_PROFIT_MONTH)\n",
    "set_1_profit_month = set_1_profit_month.T \n",
    "set_1_profit_month = pd.DataFrame(data = set_1_profit_month)\n",
    "set_1_profit_month.columns = com"
   ]
  },
  {
   "cell_type": "markdown",
   "metadata": {},
   "source": [
    "## STRIKE RATE SCORE"
   ]
  },
  {
   "cell_type": "markdown",
   "metadata": {},
   "source": [
    "### 1] DAILY"
   ]
  },
  {
   "cell_type": "code",
   "execution_count": 151,
   "metadata": {},
   "outputs": [
    {
     "name": "stderr",
     "output_type": "stream",
     "text": [
      "100%|███████████████████████████████████████████| 1/1 [00:00<00:00, 199.80it/s]\n"
     ]
    }
   ],
   "source": [
    "set_1_daily = []\n",
    "for j in tqdm(range(len(SET_1.columns))):\n",
    "    a = 0\n",
    "    for i in range(len(SET_1)):\n",
    "        if (SET_1.iloc[i,j] > 0):\n",
    "            a = a + 1\n",
    "    set_1_daily.append(a*100/len(SET_1))"
   ]
  },
  {
   "cell_type": "markdown",
   "metadata": {},
   "source": [
    "### 2] WEEK"
   ]
  },
  {
   "cell_type": "code",
   "execution_count": 152,
   "metadata": {},
   "outputs": [
    {
     "name": "stderr",
     "output_type": "stream",
     "text": [
      "100%|███████████████████████████████████████████| 1/1 [00:00<00:00, 142.42it/s]\n"
     ]
    }
   ],
   "source": [
    "SET_1_PROFIT_DAYS_WEEK= []\n",
    "SET_1_STRIKE_RATE_SCORE_WEEK = []\n",
    "for i in range(len(SET_1.columns)):\n",
    "    SET_1_PROFIT_DAYS_WEEK.append([])\n",
    "    SET_1_STRIKE_RATE_SCORE_WEEK.append([])\n",
    "\n",
    "for j in tqdm(range(len(SET_1.columns))):\n",
    "    for i in week_index:\n",
    "        a = 0\n",
    "        for k in range(len(i)):\n",
    "            if (SET_1.iloc[i[k],j] > 0):\n",
    "                a = a + 1\n",
    "        SET_1_PROFIT_DAYS_WEEK[j].append(a)\n",
    "        SET_1_STRIKE_RATE_SCORE_WEEK[j].append((a/len(i)*100))"
   ]
  },
  {
   "cell_type": "code",
   "execution_count": 153,
   "metadata": {},
   "outputs": [
    {
     "name": "stderr",
     "output_type": "stream",
     "text": [
      "100%|███████████████████████████████████████████| 1/1 [00:00<00:00, 333.12it/s]"
     ]
    },
    {
     "name": "stdout",
     "output_type": "stream",
     "text": [
      "1\n"
     ]
    },
    {
     "name": "stderr",
     "output_type": "stream",
     "text": [
      "\n"
     ]
    }
   ],
   "source": [
    "set_1_ss_week = pd.DataFrame(data = SET_1_STRIKE_RATE_SCORE_WEEK)\n",
    "set_1_ss_week = set_1_ss_week.T \n",
    "set_1_ss_week = pd.DataFrame(data = set_1_ss_week)\n",
    "set_1_ss_week.columns = com\n",
    "\n",
    "set_1_week = []\n",
    "for j in tqdm(range(len(set_1_ss_week.columns))):\n",
    "    a = 0\n",
    "    for i in range(len(set_1_ss_week)):\n",
    "        if (set_1_profit_week.iloc[i,j] > 0):\n",
    "            a = a + 1\n",
    "    set_1_week.append(a*100/len(set_1_ss_week)) \n",
    "print(len(set_1_week))"
   ]
  },
  {
   "cell_type": "markdown",
   "metadata": {},
   "source": [
    "### 3] MONTH"
   ]
  },
  {
   "cell_type": "code",
   "execution_count": 154,
   "metadata": {},
   "outputs": [
    {
     "name": "stderr",
     "output_type": "stream",
     "text": [
      "100%|███████████████████████████████████████████| 1/1 [00:00<00:00, 166.53it/s]\n"
     ]
    }
   ],
   "source": [
    "SET_1_PROFIT_DAYS_MONTH = []\n",
    "SET_1_STRIKE_RATE_SCORE_MONTH = []\n",
    "for i in range(len(SET_1.columns)):\n",
    "    SET_1_PROFIT_DAYS_MONTH.append([])\n",
    "    SET_1_STRIKE_RATE_SCORE_MONTH.append([])\n",
    "\n",
    "for j in tqdm(range(len(SET_1.columns))):\n",
    "    for i in month_index:\n",
    "        a = 0\n",
    "        for k in range(len(i)):\n",
    "            if (SET_1.iloc[i[k],j] > 0):\n",
    "                a = a + 1\n",
    "        SET_1_PROFIT_DAYS_MONTH[j].append(a)\n",
    "        SET_1_STRIKE_RATE_SCORE_MONTH[j].append((a/len(i)*100))"
   ]
  },
  {
   "cell_type": "code",
   "execution_count": 155,
   "metadata": {},
   "outputs": [
    {
     "name": "stderr",
     "output_type": "stream",
     "text": [
      "100%|███████████████████████████████████████████| 1/1 [00:00<00:00, 995.33it/s]\n"
     ]
    }
   ],
   "source": [
    "set_1_ss_month = pd.DataFrame(data = SET_1_STRIKE_RATE_SCORE_MONTH)\n",
    "set_1_ss_month = set_1_ss_month.T \n",
    "set_1_ss_month = pd.DataFrame(data = set_1_ss_month)\n",
    "set_1_ss_month.columns = com\n",
    "\n",
    "set_1_month = []\n",
    "for j in tqdm(range(len(set_1_ss_month.columns))):\n",
    "    a = 0\n",
    "    for i in range(len(set_1_ss_month)):\n",
    "        if (set_1_profit_month.iloc[i,j] > 0):\n",
    "            a = a + 1\n",
    "    set_1_month.append(a*100/len(set_1_ss_month)) "
   ]
  },
  {
   "cell_type": "markdown",
   "metadata": {},
   "source": [
    "## FINAL CSV FILE"
   ]
  },
  {
   "cell_type": "code",
   "execution_count": 156,
   "metadata": {},
   "outputs": [],
   "source": [
    "d = {com[i]:SET_1_PROFIT_DAILY[i] for i in range(len(com))}\n",
    "d = pd.DataFrame(d,index = [0])\n",
    "SET_1 = pd.concat([d,SET_1]).reset_index(drop = True)\n",
    "\n",
    "d = {com[i]:set_1_month[i] for i in range(len(com))}\n",
    "d = pd.DataFrame(d,index = [0])\n",
    "SET_1 = pd.concat([d,SET_1]).reset_index(drop = True)\n",
    "\n",
    "d = {com[i]:set_1_week[i] for i in range(len(com))}\n",
    "d = pd.DataFrame(d,index = [0])\n",
    "SET_1 = pd.concat([d,SET_1]).reset_index(drop = True)\n",
    "\n",
    "d = {com[i]:set_1_daily[i] for i in range(len(com))}\n",
    "d = pd.DataFrame(d,index = [0])\n",
    "SET_1 = pd.concat([d,SET_1]).reset_index(drop = True)"
   ]
  },
  {
   "cell_type": "code",
   "execution_count": 157,
   "metadata": {},
   "outputs": [],
   "source": [
    "SET_1.index = index\n",
    "SET_1.to_csv('SET_1.csv')"
   ]
  },
  {
   "cell_type": "code",
   "execution_count": 158,
   "metadata": {},
   "outputs": [],
   "source": [
    "dt = {com[i]:'-' for i in range(len(com))}\n",
    "dt = pd.DataFrame(dt,index = [0])\n",
    "set_1_profit_week = pd.concat([dt,set_1_profit_week]).reset_index(drop = True)\n",
    "set_1_profit_month = pd.concat([dt,set_1_profit_month]).reset_index(drop = True)\n",
    "set_1_profit_df = pd.concat([set_1_profit_week,set_1_profit_month]).reset_index(drop = True)"
   ]
  },
  {
   "cell_type": "code",
   "execution_count": 159,
   "metadata": {},
   "outputs": [],
   "source": [
    "set_1_profit_df.index = new_index\n",
    "set_1_profit_df.to_csv('SET_1_PROFIT_WEEK_MONTH.csv')"
   ]
  },
  {
   "cell_type": "markdown",
   "metadata": {},
   "source": [
    "# SET_2"
   ]
  },
  {
   "cell_type": "code",
   "execution_count": 47,
   "metadata": {},
   "outputs": [
    {
     "data": {
      "text/plain": [
       "351"
      ]
     },
     "execution_count": 47,
     "metadata": {},
     "output_type": "execute_result"
    }
   ],
   "source": [
    "SET_2 = pd.DataFrame()\n",
    "com = list(itertools.combinations(col,2))\n",
    "len(com)"
   ]
  },
  {
   "cell_type": "code",
   "execution_count": 48,
   "metadata": {},
   "outputs": [
    {
     "name": "stderr",
     "output_type": "stream",
     "text": [
      "100%|███████████████████████████████████████| 351/351 [00:00<00:00, 662.26it/s]\n"
     ]
    }
   ],
   "source": [
    "for i in tqdm(range(len(com))):\n",
    "    SET_2[com[i][0] + '+' + com[i][1]] = data[com[i][0]] + data[com[i][1]] "
   ]
  },
  {
   "cell_type": "markdown",
   "metadata": {},
   "source": [
    "## PROFIT"
   ]
  },
  {
   "cell_type": "markdown",
   "metadata": {},
   "source": [
    "### 1] DAILY"
   ]
  },
  {
   "cell_type": "code",
   "execution_count": 33,
   "metadata": {},
   "outputs": [
    {
     "name": "stderr",
     "output_type": "stream",
     "text": [
      "100%|██████████████████████████████████████| 351/351 [00:00<00:00, 5485.45it/s]\n"
     ]
    }
   ],
   "source": [
    "SET_2_PROFIT_DAILY = []\n",
    "for i in tqdm(range(len(SET_2.columns))):\n",
    "    SET_2_PROFIT_DAILY.append(sum(SET_2.iloc[:,i]))"
   ]
  },
  {
   "cell_type": "markdown",
   "metadata": {},
   "source": [
    "### 2] WEEK"
   ]
  },
  {
   "cell_type": "code",
   "execution_count": 34,
   "metadata": {},
   "outputs": [
    {
     "name": "stderr",
     "output_type": "stream",
     "text": [
      "100%|████████████████████████████████████████| 351/351 [00:07<00:00, 46.28it/s]\n"
     ]
    }
   ],
   "source": [
    "SET_2_PROFIT_WEEK = []\n",
    "for i in range(len(SET_2.columns)):\n",
    "    SET_2_PROFIT_WEEK.append([])\n",
    "    \n",
    "for i in tqdm(range(len(SET_2.columns))):\n",
    "    for k in week_index:\n",
    "        SET_2_PROFIT_WEEK[i].append(sum(SET_2.iloc[k,i]))\n",
    "\n",
    "set_2_profit_week = pd.DataFrame(data = SET_2_PROFIT_WEEK)\n",
    "set_2_profit_week = set_2_profit_week.T \n",
    "set_2_profit_week = pd.DataFrame(data = set_2_profit_week)\n",
    "set_2_profit_week.columns = com"
   ]
  },
  {
   "cell_type": "markdown",
   "metadata": {},
   "source": [
    "### 3] MONTH"
   ]
  },
  {
   "cell_type": "code",
   "execution_count": 35,
   "metadata": {},
   "outputs": [
    {
     "name": "stderr",
     "output_type": "stream",
     "text": [
      "100%|███████████████████████████████████████| 351/351 [00:01<00:00, 188.13it/s]\n"
     ]
    }
   ],
   "source": [
    "SET_2_PROFIT_MONTH = []\n",
    "for i in range(len(SET_2.columns)):\n",
    "    SET_2_PROFIT_MONTH.append([])    \n",
    "\n",
    "for i in tqdm(range(len(SET_2.columns))):\n",
    "    for k in month_index:\n",
    "        SET_2_PROFIT_MONTH[i].append(sum(SET_2.iloc[k,i]))\n",
    "\n",
    "set_2_profit_month = pd.DataFrame(data = SET_2_PROFIT_MONTH)\n",
    "set_2_profit_month = set_2_profit_month.T \n",
    "set_2_profit_month = pd.DataFrame(data = set_2_profit_month)\n",
    "set_2_profit_month.columns = com"
   ]
  },
  {
   "cell_type": "markdown",
   "metadata": {},
   "source": [
    "## STRIKE RATE SCORE"
   ]
  },
  {
   "cell_type": "markdown",
   "metadata": {},
   "source": [
    "### 1] DAILY"
   ]
  },
  {
   "cell_type": "code",
   "execution_count": 36,
   "metadata": {},
   "outputs": [
    {
     "name": "stderr",
     "output_type": "stream",
     "text": [
      "100%|███████████████████████████████████████| 351/351 [00:01<00:00, 226.06it/s]\n"
     ]
    }
   ],
   "source": [
    "set_2_daily = []\n",
    "for j in tqdm(range(len(SET_2.columns))):\n",
    "    a = 0\n",
    "    for i in range(len(SET_2)):\n",
    "        if (SET_2.iloc[i,j] > 0):\n",
    "            a = a + 1\n",
    "    set_2_daily.append(a*100/len(SET_2))"
   ]
  },
  {
   "cell_type": "markdown",
   "metadata": {},
   "source": [
    "### 2] WEEK"
   ]
  },
  {
   "cell_type": "code",
   "execution_count": null,
   "metadata": {},
   "outputs": [],
   "source": [
    "SET_2_PROFIT_DAYS_WEEK= []\n",
    "SET_2_STRIKE_RATE_SCORE_WEEK = []\n",
    "for i in range(len(SET_2.columns)):\n",
    "    SET_2_PROFIT_DAYS_WEEK.append([])\n",
    "    SET_2_STRIKE_RATE_SCORE_WEEK.append([])\n",
    "\n",
    "for j in tqdm(range(len(SET_2.columns))):\n",
    "    for i in week_index:\n",
    "        a = 0\n",
    "        for k in range(len(i)):\n",
    "            if (SET_2.iloc[i[k],j] > 0):\n",
    "                a = a + 1\n",
    "        SET_2_PROFIT_DAYS_WEEK[j].append(a)\n",
    "        SET_2_STRIKE_RATE_SCORE_WEEK[j].append((a/len(i)*100))"
   ]
  },
  {
   "cell_type": "code",
   "execution_count": 37,
   "metadata": {},
   "outputs": [
    {
     "name": "stderr",
     "output_type": "stream",
     "text": [
      "100%|███████████████████████████████████████| 351/351 [00:01<00:00, 230.13it/s]\n",
      "100%|███████████████████████████████████████| 351/351 [00:00<00:00, 979.75it/s]"
     ]
    },
    {
     "name": "stdout",
     "output_type": "stream",
     "text": [
      "351\n"
     ]
    },
    {
     "name": "stderr",
     "output_type": "stream",
     "text": [
      "\n"
     ]
    }
   ],
   "source": [
    "set_2_ss_week = pd.DataFrame(data = SET_2_STRIKE_RATE_SCORE_WEEK)\n",
    "set_2_ss_week = set_2_ss_week.T \n",
    "set_2_ss_week = pd.DataFrame(data = set_2_ss_week)\n",
    "set_2_ss_week.columns = com\n",
    "\n",
    "set_2_week = []\n",
    "for j in tqdm(range(len(set_2_ss_week.columns))):\n",
    "    a = 0\n",
    "    for i in range(len(set_2_ss_week)):\n",
    "        if (set_2_profit_week.iloc[i,j] > 0):\n",
    "            a = a + 1\n",
    "    set_2_week.append(a*100/len(set_2_ss_week)) \n",
    "print(len(set_2_week))"
   ]
  },
  {
   "cell_type": "markdown",
   "metadata": {},
   "source": [
    "### 3] MONTH"
   ]
  },
  {
   "cell_type": "code",
   "execution_count": null,
   "metadata": {},
   "outputs": [],
   "source": [
    "SET_2_PROFIT_DAYS_MONTH = []\n",
    "SET_2_STRIKE_RATE_SCORE_MONTH = []\n",
    "for i in range(len(SET_2.columns)):\n",
    "    SET_2_PROFIT_DAYS_MONTH.append([])\n",
    "    SET_2_STRIKE_RATE_SCORE_MONTH.append([])\n",
    "\n",
    "for j in tqdm(range(len(SET_2.columns))):\n",
    "    for i in month_index:\n",
    "        a = 0\n",
    "        for k in range(len(i)):\n",
    "            if (SET_2.iloc[i[k],j] > 0):\n",
    "                a = a + 1\n",
    "        SET_2_PROFIT_DAYS_MONTH[j].append(a)\n",
    "        SET_2_STRIKE_RATE_SCORE_MONTH[j].append((a/len(i)*100))"
   ]
  },
  {
   "cell_type": "code",
   "execution_count": 27,
   "metadata": {},
   "outputs": [
    {
     "name": "stderr",
     "output_type": "stream",
     "text": [
      "100%|███████████████████████████████████████| 351/351 [00:01<00:00, 235.11it/s]\n",
      "100%|██████████████████████████████████████| 351/351 [00:00<00:00, 3509.84it/s]"
     ]
    },
    {
     "name": "stdout",
     "output_type": "stream",
     "text": [
      "351\n"
     ]
    },
    {
     "name": "stderr",
     "output_type": "stream",
     "text": [
      "\n"
     ]
    }
   ],
   "source": [
    "set_2_ss_month = pd.DataFrame(data = SET_2_STRIKE_RATE_SCORE_MONTH)\n",
    "set_2_ss_month = set_2_ss_month.T \n",
    "set_2_ss_month = pd.DataFrame(data = set_2_ss_month)\n",
    "set_2_ss_month.columns = com\n",
    "\n",
    "set_2_month = []\n",
    "for j in tqdm(range(len(set_2_ss_month.columns))):\n",
    "    a = 0\n",
    "    for i in range(len(set_2_ss_month)):\n",
    "        if (set_2_profit_month.iloc[i,j] > 0):\n",
    "            a = a + 1\n",
    "    set_2_month.append(a*100/len(set_2_ss_month)) \n",
    "print(len(set_2_month))"
   ]
  },
  {
   "cell_type": "markdown",
   "metadata": {},
   "source": [
    "## FINAL CSV FILE"
   ]
  },
  {
   "cell_type": "code",
   "execution_count": 50,
   "metadata": {},
   "outputs": [],
   "source": [
    "d = {SET_2.columns[i]:SET_2_PROFIT_DAILY[i] for i in range(len(SET_2.columns))}\n",
    "d = pd.DataFrame(d,index = [0])\n",
    "SET_2 = pd.concat([d,SET_2]).reset_index(drop = True)\n",
    "\n",
    "d = {SET_2.columns[i]:set_2_month[i] for i in range(len(SET_2.columns))}\n",
    "d = pd.DataFrame(d,index = [0])\n",
    "SET_2 = pd.concat([d,SET_2]).reset_index(drop = True)\n",
    "\n",
    "d = {SET_2.columns[i]:set_2_week[i] for i in range(len(SET_2.columns))}\n",
    "d = pd.DataFrame(d,index = [0])\n",
    "SET_2 = pd.concat([d,SET_2]).reset_index(drop = True)\n",
    "\n",
    "d = {SET_2.columns[i]:set_2_daily[i] for i in range(len(SET_2.columns))}\n",
    "d = pd.DataFrame(d,index = [0])\n",
    "SET_2 = pd.concat([d,SET_2]).reset_index(drop = True)"
   ]
  },
  {
   "cell_type": "code",
   "execution_count": 51,
   "metadata": {},
   "outputs": [],
   "source": [
    "SET_2.index = index\n",
    "SET_2.to_csv('SET_2.csv')"
   ]
  },
  {
   "cell_type": "code",
   "execution_count": null,
   "metadata": {},
   "outputs": [],
   "source": [
    "dt = {com[i]:'-' for i in range(len(com))}\n",
    "dt = pd.DataFrame(dt,index = [0])\n",
    "set_2_profit_week = pd.concat([dt,set_2_profit_week]).reset_index(drop = True)\n",
    "set_2_profit_month = pd.concat([dt,set_2_profit_month]).reset_index(drop = True)\n",
    "set_2_profit_df = pd.concat([set_2_profit_week,set_2_profit_month]).reset_index(drop = True)"
   ]
  },
  {
   "cell_type": "code",
   "execution_count": null,
   "metadata": {},
   "outputs": [],
   "source": [
    "set_2_profit_df.index = new_index\n",
    "set_2_profit_df.to_csv('SET_2_PROFIT_WEEK_MONTH.csv')"
   ]
  },
  {
   "cell_type": "markdown",
   "metadata": {},
   "source": [
    "# SET_3"
   ]
  },
  {
   "cell_type": "code",
   "execution_count": 52,
   "metadata": {},
   "outputs": [
    {
     "data": {
      "text/plain": [
       "2925"
      ]
     },
     "execution_count": 52,
     "metadata": {},
     "output_type": "execute_result"
    }
   ],
   "source": [
    "SET_3 = pd.DataFrame()\n",
    "com = list(itertools.combinations(col,3))\n",
    "len(com)"
   ]
  },
  {
   "cell_type": "code",
   "execution_count": 13,
   "metadata": {},
   "outputs": [],
   "source": [
    "for i in tqdm(range(len(com))):\n",
    "    SET_3[com[i][0] + '+' + com[i][1] + '+' + com[i][2] ] = data[com[i][0]] + data[com[i][1]] + data[com[i][2]] "
   ]
  },
  {
   "cell_type": "markdown",
   "metadata": {},
   "source": [
    "## PROFIT"
   ]
  },
  {
   "cell_type": "markdown",
   "metadata": {},
   "source": [
    "### 1] DAILY"
   ]
  },
  {
   "cell_type": "code",
   "execution_count": 54,
   "metadata": {},
   "outputs": [
    {
     "name": "stderr",
     "output_type": "stream",
     "text": [
      "100%|████████████████████████████████████| 2925/2925 [00:00<00:00, 6160.29it/s]\n"
     ]
    }
   ],
   "source": [
    "SET_3_PROFIT_DAILY = []\n",
    "for i in tqdm(range(len(SET_3.columns))):\n",
    "    SET_3_PROFIT_DAILY.append(sum(SET_3.iloc[:,i]))"
   ]
  },
  {
   "cell_type": "markdown",
   "metadata": {},
   "source": [
    "### 2] WEEK"
   ]
  },
  {
   "cell_type": "code",
   "execution_count": 55,
   "metadata": {},
   "outputs": [
    {
     "name": "stderr",
     "output_type": "stream",
     "text": [
      "100%|██████████████████████████████████████| 2925/2925 [01:03<00:00, 45.81it/s]\n"
     ]
    }
   ],
   "source": [
    "SET_3_PROFIT_WEEK = []\n",
    "for i in range(len(SET_3.columns)):\n",
    "    SET_3_PROFIT_WEEK.append([])\n",
    "\n",
    "for i in tqdm(range(len(SET_3.columns))):\n",
    "    for k in week_index:\n",
    "        SET_3_PROFIT_WEEK[i].append(sum(SET_3.iloc[k,i]))\n",
    "\n",
    "set_3_profit_week = pd.DataFrame(data = SET_3_PROFIT_WEEK)\n",
    "set_3_profit_week = set_3_profit_week.T \n",
    "set_3_profit_week = pd.DataFrame(data = set_3_profit_week)\n",
    "set_3_profit_week.columns = com"
   ]
  },
  {
   "cell_type": "markdown",
   "metadata": {},
   "source": [
    "### 3] MONTH"
   ]
  },
  {
   "cell_type": "code",
   "execution_count": 56,
   "metadata": {},
   "outputs": [
    {
     "name": "stderr",
     "output_type": "stream",
     "text": [
      "100%|█████████████████████████████████████| 2925/2925 [00:14<00:00, 195.49it/s]\n"
     ]
    }
   ],
   "source": [
    "SET_3_PROFIT_MONTH = []\n",
    "for i in range(len(SET_3.columns)):\n",
    "    SET_3_PROFIT_MONTH.append([])    \n",
    "\n",
    "for i in tqdm(range(len(SET_3.columns))):\n",
    "    for k in month_index:\n",
    "        SET_3_PROFIT_MONTH[i].append(sum(SET_3.iloc[k,i]))\n",
    "\n",
    "set_3_profit_month = pd.DataFrame(data = SET_3_PROFIT_MONTH)\n",
    "set_3_profit_month = set_3_profit_month.T \n",
    "set_3_profit_month = pd.DataFrame(data = set_3_profit_month)\n",
    "set_3_profit_month.columns = com"
   ]
  },
  {
   "cell_type": "markdown",
   "metadata": {},
   "source": [
    "## STRIKE RATE SCORE"
   ]
  },
  {
   "cell_type": "markdown",
   "metadata": {},
   "source": [
    "### 1] DAILY"
   ]
  },
  {
   "cell_type": "code",
   "execution_count": 57,
   "metadata": {},
   "outputs": [
    {
     "name": "stderr",
     "output_type": "stream",
     "text": [
      "100%|█████████████████████████████████████| 2925/2925 [00:12<00:00, 235.13it/s]\n"
     ]
    }
   ],
   "source": [
    "set_3_daily = []\n",
    "for j in tqdm(range(len(SET_3.columns))):\n",
    "    a = 0\n",
    "    for i in range(len(SET_3)):\n",
    "        if (SET_3.iloc[i,j] > 0):\n",
    "            a = a + 1\n",
    "    set_3_daily.append(a*100/len(SET_3))"
   ]
  },
  {
   "cell_type": "markdown",
   "metadata": {},
   "source": [
    "### 2] WEEK"
   ]
  },
  {
   "cell_type": "code",
   "execution_count": null,
   "metadata": {},
   "outputs": [],
   "source": [
    "SET_3_PROFIT_DAYS_WEEK= []\n",
    "SET_3_STRIKE_RATE_SCORE_WEEK = []\n",
    "for i in range(len(SET_3.columns)):\n",
    "    SET_3_PROFIT_DAYS_WEEK.append([])\n",
    "    SET_3_STRIKE_RATE_SCORE_WEEK.append([])\n",
    "\n",
    "for j in tqdm(range(len(SET_3.columns))):\n",
    "    for i in week_index:\n",
    "        a = 0\n",
    "        for k in range(len(i)):\n",
    "            if (SET_3.iloc[i[k],j] > 0):\n",
    "                a = a + 1\n",
    "        SET_3_PROFIT_DAYS_WEEK[j].append(a)\n",
    "        SET_3_STRIKE_RATE_SCORE_WEEK[j].append((a/len(i)*100))"
   ]
  },
  {
   "cell_type": "code",
   "execution_count": 58,
   "metadata": {},
   "outputs": [
    {
     "name": "stderr",
     "output_type": "stream",
     "text": [
      "100%|█████████████████████████████████████| 2925/2925 [00:12<00:00, 229.12it/s]\n",
      "100%|████████████████████████████████████| 2925/2925 [00:02<00:00, 1020.00it/s]"
     ]
    },
    {
     "name": "stdout",
     "output_type": "stream",
     "text": [
      "2925\n"
     ]
    },
    {
     "name": "stderr",
     "output_type": "stream",
     "text": [
      "\n"
     ]
    }
   ],
   "source": [
    "set_3_ss_week = pd.DataFrame(data = SET_3_STRIKE_RATE_SCORE_WEEK)\n",
    "set_3_ss_week = set_3_ss_week.T \n",
    "set_3_ss_week = pd.DataFrame(data = set_3_ss_week)\n",
    "set_3_ss_week.columns = com\n",
    "\n",
    "set_3_week = []\n",
    "for j in tqdm(range(len(set_3_ss_week.columns))):\n",
    "    a = 0\n",
    "    for i in range(len(set_3_ss_week)):\n",
    "        if (set_3_profit_week.iloc[i,j] > 0):\n",
    "            a = a + 1\n",
    "    set_3_week.append(a*100/len(set_3_ss_week)) \n",
    "print(len(set_3_week))"
   ]
  },
  {
   "cell_type": "markdown",
   "metadata": {},
   "source": [
    "### 3] MONTH"
   ]
  },
  {
   "cell_type": "code",
   "execution_count": null,
   "metadata": {},
   "outputs": [],
   "source": [
    "SET_3_PROFIT_DAYS_MONTH = []\n",
    "SET_3_STRIKE_RATE_SCORE_MONTH = []\n",
    "for i in range(len(SET_3.columns)):\n",
    "    SET_3_PROFIT_DAYS_MONTH.append([])\n",
    "    SET_3_STRIKE_RATE_SCORE_MONTH.append([])\n",
    "\n",
    "for j in tqdm(range(len(SET_3.columns))):\n",
    "    for i in month_index:\n",
    "        a = 0\n",
    "        for k in range(len(i)):\n",
    "            if (SET_3.iloc[i[k],j] > 0):\n",
    "                a = a + 1\n",
    "        SET_3_PROFIT_DAYS_MONTH[j].append(a)\n",
    "        SET_3_STRIKE_RATE_SCORE_MONTH[j].append((a/len(i)*100))"
   ]
  },
  {
   "cell_type": "code",
   "execution_count": 59,
   "metadata": {},
   "outputs": [
    {
     "name": "stderr",
     "output_type": "stream",
     "text": [
      "100%|█████████████████████████████████████| 2925/2925 [00:12<00:00, 239.13it/s]\n",
      "100%|████████████████████████████████████| 2925/2925 [00:00<00:00, 3406.46it/s]"
     ]
    },
    {
     "name": "stdout",
     "output_type": "stream",
     "text": [
      "2925\n"
     ]
    },
    {
     "name": "stderr",
     "output_type": "stream",
     "text": [
      "\n"
     ]
    }
   ],
   "source": [
    "set_3_ss_month = pd.DataFrame(data = SET_3_STRIKE_RATE_SCORE_MONTH)\n",
    "set_3_ss_month = set_3_ss_month.T \n",
    "set_3_ss_month = pd.DataFrame(data = set_3_ss_month)\n",
    "set_3_ss_month.columns = com\n",
    "\n",
    "set_3_month = []\n",
    "for j in tqdm(range(len(set_3_ss_month.columns))):\n",
    "    a = 0\n",
    "    for i in range(len(set_3_ss_month)):\n",
    "        if (set_3_profit_month.iloc[i,j] > 0):\n",
    "            a = a + 1\n",
    "    set_3_month.append(a*100/len(set_3_ss_month)) \n",
    "print(len(set_3_month))"
   ]
  },
  {
   "cell_type": "markdown",
   "metadata": {},
   "source": [
    "## FINAL CSV FILE"
   ]
  },
  {
   "cell_type": "code",
   "execution_count": 60,
   "metadata": {},
   "outputs": [],
   "source": [
    "d = {SET_3.columns[i]:SET_3_PROFIT_DAILY[i] for i in range(len(SET_3.columns))}\n",
    "d = pd.DataFrame(d,index = [0])\n",
    "SET_3 = pd.concat([d,SET_3]).reset_index(drop = True)\n",
    "\n",
    "d = {SET_3.columns[i]:set_3_month[i] for i in range(len(SET_3.columns))}\n",
    "d = pd.DataFrame(d,index = [0])\n",
    "SET_3 = pd.concat([d,SET_3]).reset_index(drop = True)\n",
    "\n",
    "d = {SET_3.columns[i]:set_3_week[i] for i in range(len(SET_3.columns))}\n",
    "d = pd.DataFrame(d,index = [0])\n",
    "SET_3 = pd.concat([d,SET_3]).reset_index(drop = True)\n",
    "\n",
    "d = {SET_3.columns[i]:set_3_daily[i] for i in range(len(SET_3.columns))}\n",
    "d = pd.DataFrame(d,index = [0])\n",
    "SET_3 = pd.concat([d,SET_3]).reset_index(drop = True)"
   ]
  },
  {
   "cell_type": "code",
   "execution_count": 63,
   "metadata": {},
   "outputs": [],
   "source": [
    "SET_3.index = index\n",
    "SET_3.to_csv('SET_3.csv')"
   ]
  },
  {
   "cell_type": "code",
   "execution_count": null,
   "metadata": {},
   "outputs": [],
   "source": [
    "dt = {com[i]:'-' for i in range(len(com))}\n",
    "dt = pd.DataFrame(dt,index = [0])\n",
    "set_3_profit_week = pd.concat([dt,set_3_profit_week]).reset_index(drop = True)\n",
    "set_3_profit_month = pd.concat([dt,set_3_profit_month]).reset_index(drop = True)\n",
    "set_3_profit_df = pd.concat([set_3_profit_week,set_3_profit_month]).reset_index(drop = True)"
   ]
  },
  {
   "cell_type": "code",
   "execution_count": null,
   "metadata": {},
   "outputs": [],
   "source": [
    "set_3_profit_df.index = new_index\n",
    "set_3_profit_df.to_csv('SET_3_PROFIT_WEEK_MONTH.csv')"
   ]
  },
  {
   "cell_type": "markdown",
   "metadata": {},
   "source": [
    "# SET 4"
   ]
  },
  {
   "cell_type": "code",
   "execution_count": 64,
   "metadata": {},
   "outputs": [
    {
     "data": {
      "text/plain": [
       "17550"
      ]
     },
     "execution_count": 64,
     "metadata": {},
     "output_type": "execute_result"
    }
   ],
   "source": [
    "SET_4 = pd.DataFrame()\n",
    "com = list(itertools.combinations(col,4))\n",
    "len(com)"
   ]
  },
  {
   "cell_type": "code",
   "execution_count": 14,
   "metadata": {},
   "outputs": [],
   "source": [
    "for i in tqdm(range(len(com))):\n",
    "    SET_4[com[i][0] + '+' + com[i][1] + '+' + com[i][2] + '+' + com[i][3]] = data[com[i][0]] + data[com[i][1]] + data[com[i][2]] + data[com[i][3]] "
   ]
  },
  {
   "cell_type": "markdown",
   "metadata": {},
   "source": [
    "## PROFIT"
   ]
  },
  {
   "cell_type": "markdown",
   "metadata": {},
   "source": [
    "### 1] DAILY"
   ]
  },
  {
   "cell_type": "code",
   "execution_count": 66,
   "metadata": {},
   "outputs": [
    {
     "name": "stderr",
     "output_type": "stream",
     "text": [
      "100%|██████████████████████████████████| 17550/17550 [00:02<00:00, 6392.46it/s]\n"
     ]
    }
   ],
   "source": [
    "SET_4_PROFIT_DAILY = []\n",
    "for i in tqdm(range(len(SET_4.columns))):\n",
    "    SET_4_PROFIT_DAILY.append(sum(SET_4.iloc[:,i]))"
   ]
  },
  {
   "cell_type": "markdown",
   "metadata": {},
   "source": [
    "### 2] WEEK"
   ]
  },
  {
   "cell_type": "code",
   "execution_count": 68,
   "metadata": {},
   "outputs": [],
   "source": [
    "SET_4_PROFIT_WEEK = []\n",
    "for i in range(len(SET_4.columns)):\n",
    "    SET_4_PROFIT_WEEK.append([])\n",
    "\n",
    "for i in tqdm(range(len(SET_4.columns))):\n",
    "    for k in week_index:\n",
    "        SET_4_PROFIT_WEEK[i].append(sum(SET_4.iloc[k,i]))\n",
    "\n",
    "set_4_profit_week = pd.DataFrame(data = SET_4_PROFIT_WEEK)\n",
    "set_4_profit_week = set_4_profit_week.T \n",
    "set_4_profit_week = pd.DataFrame(data = set_4_profit_week)\n",
    "set_4_profit_week.columns = com"
   ]
  },
  {
   "cell_type": "markdown",
   "metadata": {},
   "source": [
    "### 3] MONTH"
   ]
  },
  {
   "cell_type": "code",
   "execution_count": 15,
   "metadata": {},
   "outputs": [],
   "source": [
    "SET_4_PROFIT_MONTH = []\n",
    "for i in range(len(SET_4.columns)):\n",
    "    SET_4_PROFIT_MONTH.append([])    \n",
    "\n",
    "for i in tqdm(range(len(SET_4.columns))):\n",
    "    for k in month_index:\n",
    "        SET_4_PROFIT_MONTH[i].append(sum(SET_4.iloc[k,i]))\n",
    "\n",
    "set_4_profit_month = pd.DataFrame(data = SET_4_PROFIT_MONTH)\n",
    "set_4_profit_month = set_4_profit_month.T \n",
    "set_4_profit_month = pd.DataFrame(data = set_4_profit_month)\n",
    "set_4_profit_month.columns = com"
   ]
  },
  {
   "cell_type": "markdown",
   "metadata": {},
   "source": [
    "## STRIKE RATE SCORE"
   ]
  },
  {
   "cell_type": "markdown",
   "metadata": {},
   "source": [
    "### 1] DAILY"
   ]
  },
  {
   "cell_type": "code",
   "execution_count": 16,
   "metadata": {},
   "outputs": [],
   "source": [
    "set_4_daily = []\n",
    "for j in tqdm(range(len(SET_4.columns))):\n",
    "    a = 0\n",
    "    for i in range(len(SET_4)):\n",
    "        if (SET_4.iloc[i,j] > 0):\n",
    "            a = a + 1\n",
    "    set_4_daily.append(a*100/len(SET_4))"
   ]
  },
  {
   "cell_type": "markdown",
   "metadata": {},
   "source": [
    "### 2] WEEK"
   ]
  },
  {
   "cell_type": "code",
   "execution_count": null,
   "metadata": {},
   "outputs": [],
   "source": [
    "SET_4_PROFIT_DAYS_WEEK= []\n",
    "SET_4_STRIKE_RATE_SCORE_WEEK = []\n",
    "for i in range(len(SET_4.columns)):\n",
    "    SET_4_PROFIT_DAYS_WEEK.append([])\n",
    "    SET_4_STRIKE_RATE_SCORE_WEEK.append([])\n",
    "\n",
    "for j in tqdm(range(len(SET_4.columns))):\n",
    "    for i in week_index:\n",
    "        a = 0\n",
    "        for k in range(len(i)):\n",
    "            if (SET_4.iloc[i[k],j] > 0):\n",
    "                a = a + 1\n",
    "        SET_4_PROFIT_DAYS_WEEK[j].append(a)\n",
    "        SET_4_STRIKE_RATE_SCORE_WEEK[j].append((a/len(i)*100))"
   ]
  },
  {
   "cell_type": "code",
   "execution_count": 17,
   "metadata": {},
   "outputs": [],
   "source": [
    "set_4_ss_week = pd.DataFrame(data = SET_4_STRIKE_RATE_SCORE_WEEK)\n",
    "set_4_ss_week = set_4_ss_week.T \n",
    "set_4_ss_week = pd.DataFrame(data = set_4_ss_week)\n",
    "set_4_ss_week.columns = com\n",
    "\n",
    "set_4_week = []\n",
    "for j in tqdm(range(len(set_4_ss_week.columns))):\n",
    "    a = 0\n",
    "    for i in range(len(set_4_ss_week)):\n",
    "        if (set_4_profit_week.iloc[i,j] > 0):\n",
    "            a = a + 1\n",
    "    set_4_week.append(a*100/len(set_4_ss_week)) \n",
    "print(len(set_4_week))"
   ]
  },
  {
   "cell_type": "markdown",
   "metadata": {},
   "source": [
    "### 3] MONTH"
   ]
  },
  {
   "cell_type": "code",
   "execution_count": null,
   "metadata": {},
   "outputs": [],
   "source": [
    "SET_4_PROFIT_DAYS_MONTH = []\n",
    "SET_4_STRIKE_RATE_SCORE_MONTH = []\n",
    "for i in range(len(SET_4.columns)):\n",
    "    SET_4_PROFIT_DAYS_MONTH.append([])\n",
    "    SET_4_STRIKE_RATE_SCORE_MONTH.append([])\n",
    "\n",
    "for j in tqdm(range(len(SET_4.columns))):\n",
    "    for i in month_index:\n",
    "        a = 0\n",
    "        for k in range(len(i)):\n",
    "            if (SET_4.iloc[i[k],j] > 0):\n",
    "                a = a + 1\n",
    "        SET_4_PROFIT_DAYS_MONTH[j].append(a)\n",
    "        SET_4_STRIKE_RATE_SCORE_MONTH[j].append((a/len(i)*100))"
   ]
  },
  {
   "cell_type": "code",
   "execution_count": 18,
   "metadata": {},
   "outputs": [],
   "source": [
    "set_4_ss_month = pd.DataFrame(data = SET_4_STRIKE_RATE_SCORE_MONTH)\n",
    "set_4_ss_month = set_4_ss_month.T \n",
    "set_4_ss_month = pd.DataFrame(data = set_4_ss_month)\n",
    "set_4_ss_month.columns = com\n",
    "\n",
    "set_4_month = []\n",
    "for j in tqdm(range(len(set_4_ss_month.columns))):\n",
    "    a = 0\n",
    "    for i in range(len(set_4_ss_month)):\n",
    "        if (set_4_profit_month.iloc[i,j] > 0):\n",
    "            a = a + 1\n",
    "    set_4_month.append(a*100/len(set_4_ss_month)) \n",
    "print(len(set_4_month))"
   ]
  },
  {
   "cell_type": "markdown",
   "metadata": {},
   "source": [
    "## FINAL CSV FILE"
   ]
  },
  {
   "cell_type": "code",
   "execution_count": 75,
   "metadata": {},
   "outputs": [],
   "source": [
    "d = {SET_4.columns[i]:SET_4_PROFIT_DAILY[i] for i in range(len(SET_4.columns))}\n",
    "d = pd.DataFrame(d,index = [0])\n",
    "SET_4 = pd.concat([d,SET_4]).reset_index(drop = True)\n",
    "\n",
    "d = {SET_4.columns[i]:set_4_month[i] for i in range(len(SET_4.columns))}\n",
    "d = pd.DataFrame(d,index = [0])\n",
    "SET_4 = pd.concat([d,SET_4]).reset_index(drop = True)\n",
    "\n",
    "d = {SET_4.columns[i]:set_4_week[i] for i in range(len(SET_4.columns))}\n",
    "d = pd.DataFrame(d,index = [0])\n",
    "SET_4 = pd.concat([d,SET_4]).reset_index(drop = True)\n",
    "\n",
    "d = {SET_4.columns[i]:set_4_daily[i] for i in range(len(SET_4.columns))}\n",
    "d = pd.DataFrame(d,index = [0])\n",
    "SET_4 = pd.concat([d,SET_4]).reset_index(drop = True)"
   ]
  },
  {
   "cell_type": "code",
   "execution_count": 76,
   "metadata": {},
   "outputs": [],
   "source": [
    "SET_4.index = index\n",
    "SET_4 = SET_4.T\n",
    "SET_4.to_csv('SET_4.csv')"
   ]
  },
  {
   "cell_type": "code",
   "execution_count": null,
   "metadata": {},
   "outputs": [],
   "source": [
    "dt = {com[i]:'-' for i in range(len(com))}\n",
    "dt = pd.DataFrame(dt,index = [0])\n",
    "set_4_profit_week = pd.concat([dt,set_4_profit_week]).reset_index(drop = True)\n",
    "set_4_profit_month = pd.concat([dt,set_4_profit_month]).reset_index(drop = True)\n",
    "set_4_profit_df = pd.concat([set_4_profit_week,set_4_profit_month]).reset_index(drop = True)"
   ]
  },
  {
   "cell_type": "code",
   "execution_count": null,
   "metadata": {},
   "outputs": [],
   "source": [
    "set_4_profit_df.index = new_index\n",
    "set_4_profit_df.to_csv('SET_4_PROFIT_WEEK_MONTH.csv')"
   ]
  },
  {
   "cell_type": "markdown",
   "metadata": {},
   "source": [
    "# SET 5"
   ]
  },
  {
   "cell_type": "code",
   "execution_count": 77,
   "metadata": {},
   "outputs": [
    {
     "data": {
      "text/plain": [
       "80730"
      ]
     },
     "execution_count": 77,
     "metadata": {},
     "output_type": "execute_result"
    }
   ],
   "source": [
    "SET_5 = pd.DataFrame()\n",
    "com = list(itertools.combinations(col,5))\n",
    "len(com)"
   ]
  },
  {
   "cell_type": "code",
   "execution_count": 19,
   "metadata": {},
   "outputs": [],
   "source": [
    "for i in tqdm(range(len(com))):\n",
    "    SET_5[com[i][0] + '+' + com[i][1] + '+' + com[i][2] + '+' + com[i][3] + '+' + com[i][4]] = data[com[i][0]] + data[com[i][1]] + data[com[i][2]] + data[com[i][3]] + data[com[i][4]] "
   ]
  },
  {
   "cell_type": "markdown",
   "metadata": {},
   "source": [
    "## PROFIT"
   ]
  },
  {
   "cell_type": "markdown",
   "metadata": {},
   "source": [
    "### 1] DAILY"
   ]
  },
  {
   "cell_type": "code",
   "execution_count": 20,
   "metadata": {},
   "outputs": [],
   "source": [
    "SET_5_PROFIT_DAILY = []\n",
    "for i in tqdm(range(len(SET_5.columns))):\n",
    "    SET_5_PROFIT_DAILY.append(sum(SET_5.iloc[:,i]))"
   ]
  },
  {
   "cell_type": "markdown",
   "metadata": {},
   "source": [
    "### 2] WEEK"
   ]
  },
  {
   "cell_type": "code",
   "execution_count": 21,
   "metadata": {},
   "outputs": [],
   "source": [
    "SET_5_PROFIT_WEEK = []\n",
    "for i in range(len(SET_5.columns)):\n",
    "    SET_5_PROFIT_WEEK.append([])\n",
    "\n",
    "for i in tqdm(range(len(SET_5.columns))):\n",
    "    for k in week_index:\n",
    "        SET_5_PROFIT_WEEK[i].append(sum(SET_5.iloc[k,i]))\n",
    "\n",
    "set_5_profit_week = pd.DataFrame(data = SET_5_PROFIT_WEEK)\n",
    "set_5_profit_week = set_5_profit_week.T \n",
    "set_5_profit_week = pd.DataFrame(data = set_5_profit_week)\n",
    "set_5_profit_week.columns = com"
   ]
  },
  {
   "cell_type": "markdown",
   "metadata": {},
   "source": [
    "### 3] MONTH"
   ]
  },
  {
   "cell_type": "code",
   "execution_count": 22,
   "metadata": {},
   "outputs": [],
   "source": [
    "SET_5_PROFIT_MONTH = []\n",
    "for i in range(len(SET_5.columns)):\n",
    "    SET_5_PROFIT_MONTH.append([])    \n",
    "\n",
    "for i in tqdm(range(len(SET_5.columns))):\n",
    "    for k in month_index:\n",
    "        SET_5_PROFIT_MONTH[i].append(sum(SET_5.iloc[k,i]))\n",
    "\n",
    "set_5_profit_month = pd.DataFrame(data = SET_5_PROFIT_MONTH)\n",
    "set_5_profit_month = set_5_profit_month.T \n",
    "set_5_profit_month = pd.DataFrame(data = set_5_profit_month)\n",
    "set_5_profit_month.columns = com"
   ]
  },
  {
   "cell_type": "markdown",
   "metadata": {},
   "source": [
    "## STRIKE RATE SCORE"
   ]
  },
  {
   "cell_type": "markdown",
   "metadata": {},
   "source": [
    "### 1] DAILY"
   ]
  },
  {
   "cell_type": "code",
   "execution_count": 23,
   "metadata": {},
   "outputs": [],
   "source": [
    "set_5_daily = []\n",
    "for j in tqdm(range(len(SET_5.columns))):\n",
    "    a = 0\n",
    "    for i in range(len(SET_5)):\n",
    "        if (SET_5.iloc[i,j] > 0):\n",
    "            a = a + 1\n",
    "    set_5_daily.append(a*100/len(SET_5))"
   ]
  },
  {
   "cell_type": "markdown",
   "metadata": {},
   "source": [
    "### 2] WEEK"
   ]
  },
  {
   "cell_type": "code",
   "execution_count": null,
   "metadata": {},
   "outputs": [],
   "source": [
    "SET_5_PROFIT_DAYS_WEEK= []\n",
    "SET_5_STRIKE_RATE_SCORE_WEEK = []\n",
    "for i in range(len(SET_5.columns)):\n",
    "    SET_5_PROFIT_DAYS_WEEK.append([])\n",
    "    SET_5_STRIKE_RATE_SCORE_WEEK.append([])\n",
    "\n",
    "for j in tqdm(range(len(SET_5.columns))):\n",
    "    for i in week_index:\n",
    "        a = 0\n",
    "        for k in range(len(i)):\n",
    "            if (SET_5.iloc[i[k],j] > 0):\n",
    "                a = a + 1\n",
    "        SET_5_PROFIT_DAYS_WEEK[j].append(a)\n",
    "        SET_5_STRIKE_RATE_SCORE_WEEK[j].append((a/len(i)*100))"
   ]
  },
  {
   "cell_type": "code",
   "execution_count": 24,
   "metadata": {},
   "outputs": [],
   "source": [
    "set_5_ss_week = pd.DataFrame(data = SET_5_STRIKE_RATE_SCORE_WEEK)\n",
    "set_5_ss_week = set_5_ss_week.T \n",
    "set_5_ss_week = pd.DataFrame(data = set_5_ss_week)\n",
    "set_5_ss_week.columns = com\n",
    "\n",
    "set_5_week = []\n",
    "for j in tqdm(range(len(set_5_ss_week.columns))):\n",
    "    a = 0\n",
    "    for i in range(len(set_5_ss_week)):\n",
    "        if (set_5_profit_week.iloc[i,j] > 0):\n",
    "            a = a + 1\n",
    "    set_5_week.append(a*100/len(set_5_ss_week)) \n",
    "print(len(set_5_week))"
   ]
  },
  {
   "cell_type": "markdown",
   "metadata": {},
   "source": [
    "### 3] MONTH"
   ]
  },
  {
   "cell_type": "code",
   "execution_count": null,
   "metadata": {},
   "outputs": [],
   "source": [
    "SET_5_PROFIT_DAYS_MONTH = []\n",
    "SET_5_STRIKE_RATE_SCORE_MONTH = []\n",
    "for i in range(len(SET_5.columns)):\n",
    "    SET_5_PROFIT_DAYS_MONTH.append([])\n",
    "    SET_5_STRIKE_RATE_SCORE_MONTH.append([])\n",
    "\n",
    "for j in tqdm(range(len(SET_5.columns))):\n",
    "    for i in month_index:\n",
    "        a = 0\n",
    "        for k in range(len(i)):\n",
    "            if (SET_5.iloc[i[k],j] > 0):\n",
    "                a = a + 1\n",
    "        SET_5_PROFIT_DAYS_MONTH[j].append(a)\n",
    "        SET_5_STRIKE_RATE_SCORE_MONTH[j].append((a/len(i)*100))"
   ]
  },
  {
   "cell_type": "code",
   "execution_count": 25,
   "metadata": {},
   "outputs": [],
   "source": [
    "set_5_ss_month = pd.DataFrame(data = SET_5_STRIKE_RATE_SCORE_MONTH)\n",
    "set_5_ss_month = set_5_ss_month.T \n",
    "set_5_ss_month = pd.DataFrame(data = set_5_ss_month)\n",
    "set_5_ss_month.columns = com\n",
    "\n",
    "set_5_month = []\n",
    "for j in tqdm(range(len(set_5_ss_month.columns))):\n",
    "    a = 0\n",
    "    for i in range(len(set_5_ss_month)):\n",
    "        if (set_5_profit_month.iloc[i,j] > 0):\n",
    "            a = a + 1\n",
    "    set_5_month.append(a*100/len(set_5_ss_month)) \n",
    "print(len(set_5_month))"
   ]
  },
  {
   "cell_type": "markdown",
   "metadata": {},
   "source": [
    "## FINAL CSV FILE"
   ]
  },
  {
   "cell_type": "code",
   "execution_count": 85,
   "metadata": {},
   "outputs": [],
   "source": [
    "d = {SET_5.columns[i]:SET_5_PROFIT_DAILY[i] for i in range(len(SET_5.columns))}\n",
    "d = pd.DataFrame(d,index = [0])\n",
    "SET_5 = pd.concat([d,SET_5]).reset_index(drop = True)\n",
    "\n",
    "d = {SET_5.columns[i]:set_5_month[i] for i in range(len(SET_5.columns))}\n",
    "d = pd.DataFrame(d,index = [0])\n",
    "SET_5 = pd.concat([d,SET_5]).reset_index(drop = True)\n",
    "\n",
    "d = {SET_5.columns[i]:set_5_week[i] for i in range(len(SET_5.columns))}\n",
    "d = pd.DataFrame(d,index = [0])\n",
    "SET_5 = pd.concat([d,SET_5]).reset_index(drop = True)\n",
    "\n",
    "d = {SET_5.columns[i]:set_5_daily[i] for i in range(len(SET_5.columns))}\n",
    "d = pd.DataFrame(d,index = [0])\n",
    "SET_5 = pd.concat([d,SET_5]).reset_index(drop = True)"
   ]
  },
  {
   "cell_type": "code",
   "execution_count": 86,
   "metadata": {},
   "outputs": [],
   "source": [
    "SET_5.index = index\n",
    "SET_5 = SET_5.T\n",
    "SET_5.to_csv('SET_5.csv')"
   ]
  },
  {
   "cell_type": "code",
   "execution_count": null,
   "metadata": {},
   "outputs": [],
   "source": [
    "dt = {com[i]:'-' for i in range(len(com))}\n",
    "dt = pd.DataFrame(dt,index = [0])\n",
    "set_5_profit_week = pd.concat([dt,set_5_profit_week]).reset_index(drop = True)\n",
    "set_5_profit_month = pd.concat([dt,set_5_profit_month]).reset_index(drop = True)\n",
    "set_5_profit_df = pd.concat([set_5_profit_week,set_5_profit_month]).reset_index(drop = True)"
   ]
  },
  {
   "cell_type": "code",
   "execution_count": null,
   "metadata": {},
   "outputs": [],
   "source": [
    "set_5_profit_df.index = new_index\n",
    "set_5_profit_df.to_csv('SET_5_PROFIT_WEEK_MONTH.csv')"
   ]
  },
  {
   "cell_type": "markdown",
   "metadata": {},
   "source": [
    "# SET 6"
   ]
  },
  {
   "cell_type": "code",
   "execution_count": 87,
   "metadata": {},
   "outputs": [
    {
     "data": {
      "text/plain": [
       "296010"
      ]
     },
     "execution_count": 87,
     "metadata": {},
     "output_type": "execute_result"
    }
   ],
   "source": [
    "SET_6 = pd.DataFrame()\n",
    "com = list(itertools.combinations(col,6))\n",
    "len(com)"
   ]
  },
  {
   "cell_type": "code",
   "execution_count": 26,
   "metadata": {},
   "outputs": [],
   "source": [
    "for i in tqdm(range(len(com))):\n",
    "    SET_6[com[i][0] + '+' + com[i][1] + '+' + com[i][2] + '+' + com[i][3] + '+' + com[i][4] + '+' + com[i][5]] = data[com[i][0]] + data[com[i][1]] + data[com[i][2]] + data[com[i][3]] + data[com[i][4]] + data[com[i][5]] "
   ]
  },
  {
   "cell_type": "markdown",
   "metadata": {},
   "source": [
    "## PROFIT"
   ]
  },
  {
   "cell_type": "markdown",
   "metadata": {},
   "source": [
    "### 1] DAILY"
   ]
  },
  {
   "cell_type": "code",
   "execution_count": null,
   "metadata": {},
   "outputs": [],
   "source": [
    "SET_6_PROFIT_DAILY = []\n",
    "for i in tqdm(range(len(SET_6.columns))):\n",
    "    SET_6_PROFIT_DAILY.append(sum(SET_6.iloc[:,i]))"
   ]
  },
  {
   "cell_type": "markdown",
   "metadata": {},
   "source": [
    "### 2] WEEK"
   ]
  },
  {
   "cell_type": "code",
   "execution_count": null,
   "metadata": {},
   "outputs": [],
   "source": [
    "SET_6_PROFIT_WEEK = []\n",
    "for i in range(len(SET_6.columns)):\n",
    "    SET_6_PROFIT_WEEK.append([])\n",
    "\n",
    "for i in tqdm(range(len(SET_6.columns))):\n",
    "    for k in week_index:\n",
    "        SET_6_PROFIT_WEEK[i].append(sum(SET_6.iloc[k,i]))\n",
    "\n",
    "set_6_profit_week = pd.DataFrame(data = SET_6_PROFIT_WEEK)\n",
    "set_6_profit_week = set_6_profit_week.T \n",
    "set_6_profit_week = pd.DataFrame(data = set_6_profit_week)\n",
    "set_6_profit_week.columns = com"
   ]
  },
  {
   "cell_type": "markdown",
   "metadata": {},
   "source": [
    "### 3] MONTH"
   ]
  },
  {
   "cell_type": "code",
   "execution_count": null,
   "metadata": {},
   "outputs": [],
   "source": [
    "SET_6_PROFIT_MONTH = []\n",
    "for i in range(len(SET_6.columns)):\n",
    "    SET_6_PROFIT_MONTH.append([])    \n",
    "\n",
    "for i in tqdm(range(len(SET_6.columns))):\n",
    "    for k in month_index:\n",
    "        SET_6_PROFIT_MONTH[i].append(sum(SET_6.iloc[k,i]))\n",
    "\n",
    "set_6_profit_month = pd.DataFrame(data = SET_6_PROFIT_MONTH)\n",
    "set_6_profit_month = set_6_profit_month.T \n",
    "set_6_profit_month = pd.DataFrame(data = set_6_profit_month)\n",
    "set_6_profit_month.columns = com"
   ]
  },
  {
   "cell_type": "markdown",
   "metadata": {},
   "source": [
    "## STRIKE RATE SCORE"
   ]
  },
  {
   "cell_type": "markdown",
   "metadata": {},
   "source": [
    "### 1] DAILY"
   ]
  },
  {
   "cell_type": "code",
   "execution_count": null,
   "metadata": {},
   "outputs": [],
   "source": [
    "set_6_daily = []\n",
    "for j in tqdm(range(len(SET_6.columns))):\n",
    "    a = 0\n",
    "    for i in range(len(SET_6)):\n",
    "        if (SET_6.iloc[i,j] > 0):\n",
    "            a = a + 1\n",
    "    set_6_daily.append(a*100/len(SET_6))"
   ]
  },
  {
   "cell_type": "markdown",
   "metadata": {},
   "source": [
    "### 2] WEEK"
   ]
  },
  {
   "cell_type": "code",
   "execution_count": null,
   "metadata": {},
   "outputs": [],
   "source": [
    "SET_6_PROFIT_DAYS_WEEK= []\n",
    "SET_6_STRIKE_RATE_SCORE_WEEK = []\n",
    "for i in range(len(SET_6.columns)):\n",
    "    SET_6_PROFIT_DAYS_WEEK.append([])\n",
    "    SET_6_STRIKE_RATE_SCORE_WEEK.append([])\n",
    "\n",
    "for j in tqdm(range(len(SET_6.columns))):\n",
    "    for i in week_index:\n",
    "        a = 0\n",
    "        for k in range(len(i)):\n",
    "            if (SET_6.iloc[i[k],j] > 0):\n",
    "                a = a + 1\n",
    "        SET_6_PROFIT_DAYS_WEEK[j].append(a)\n",
    "        SET_6_STRIKE_RATE_SCORE_WEEK[j].append((a/len(i)*100))"
   ]
  },
  {
   "cell_type": "code",
   "execution_count": null,
   "metadata": {},
   "outputs": [],
   "source": [
    "set_6_ss_week = pd.DataFrame(data = SET_6_STRIKE_RATE_SCORE_WEEK)\n",
    "set_6_ss_week = set_6_ss_week.T \n",
    "set_6_ss_week = pd.DataFrame(data = set_6_ss_week)\n",
    "set_6_ss_week.columns = com\n",
    "\n",
    "set_6_week = []\n",
    "for j in tqdm(range(len(set_6_ss_week.columns))):\n",
    "    a = 0\n",
    "    for i in range(len(set_6_ss_week)):\n",
    "        if (set_6_profit_week.iloc[i,j] > 0):\n",
    "            a = a + 1\n",
    "    set_6_week.append(a*100/len(set_6_ss_week)) \n",
    "print(len(set_6_week))"
   ]
  },
  {
   "cell_type": "markdown",
   "metadata": {},
   "source": [
    "### 3] MONTH"
   ]
  },
  {
   "cell_type": "code",
   "execution_count": null,
   "metadata": {},
   "outputs": [],
   "source": [
    "SET_6_PROFIT_DAYS_MONTH = []\n",
    "SET_6_STRIKE_RATE_SCORE_MONTH = []\n",
    "for i in range(len(SET_6.columns)):\n",
    "    SET_6_PROFIT_DAYS_MONTH.append([])\n",
    "    SET_6_STRIKE_RATE_SCORE_MONTH.append([])\n",
    "\n",
    "for j in tqdm(range(len(SET_6.columns))):\n",
    "    for i in month_index:\n",
    "        a = 0\n",
    "        for k in range(len(i)):\n",
    "            if (SET_6.iloc[i[k],j] > 0):\n",
    "                a = a + 1\n",
    "        SET_6_PROFIT_DAYS_MONTH[j].append(a)\n",
    "        SET_6_STRIKE_RATE_SCORE_MONTH[j].append((a/len(i)*100))"
   ]
  },
  {
   "cell_type": "code",
   "execution_count": null,
   "metadata": {},
   "outputs": [],
   "source": [
    "set_6_ss_month = pd.DataFrame(data = SET_6_STRIKE_RATE_SCORE_MONTH)\n",
    "set_6_ss_month = set_6_ss_month.T \n",
    "set_6_ss_month = pd.DataFrame(data = set_6_ss_month)\n",
    "set_6_ss_month.columns = com\n",
    "\n",
    "set_6_month = []\n",
    "for j in tqdm(range(len(set_6_ss_month.columns))):\n",
    "    a = 0\n",
    "    for i in range(len(set_6_ss_month)):\n",
    "        if (set_6_profit_month.iloc[i,j] > 0):\n",
    "            a = a + 1\n",
    "    set_6_month.append(a*100/len(set_6_ss_month)) \n",
    "print(len(set_6_month))"
   ]
  },
  {
   "cell_type": "markdown",
   "metadata": {},
   "source": [
    "## FINAL CSV FILE"
   ]
  },
  {
   "cell_type": "code",
   "execution_count": null,
   "metadata": {},
   "outputs": [],
   "source": [
    "d = {SET_6.columns[i]:SET_6_PROFIT_DAILY[i] for i in range(len(SET_6.columns))}\n",
    "d = pd.DataFrame(d,index = [0])\n",
    "SET_6 = pd.concat([d,SET_6]).reset_index(drop = True)\n",
    "\n",
    "d = {SET_6.columns[i]:set_6_month[i] for i in range(len(SET_6.columns))}\n",
    "d = pd.DataFrame(d,index = [0])\n",
    "SET_6 = pd.concat([d,SET_6]).reset_index(drop = True)\n",
    "\n",
    "d = {SET_6.columns[i]:set_6_week[i] for i in range(len(SET_6.columns))}\n",
    "d = pd.DataFrame(d,index = [0])\n",
    "SET_6 = pd.concat([d,SET_6]).reset_index(drop = True)\n",
    "\n",
    "d = {SET_6.columns[i]:set_6_daily[i] for i in range(len(SET_6.columns))}\n",
    "d = pd.DataFrame(d,index = [0])\n",
    "SET_6 = pd.concat([d,SET_6]).reset_index(drop = True)"
   ]
  },
  {
   "cell_type": "code",
   "execution_count": null,
   "metadata": {},
   "outputs": [],
   "source": [
    "SET_6.index = index\n",
    "SET_6 = SET_6.T\n",
    "SET_6.to_csv('SET_6.csv')"
   ]
  },
  {
   "cell_type": "code",
   "execution_count": null,
   "metadata": {},
   "outputs": [],
   "source": [
    "dt = {com[i]:'-' for i in range(len(com))}\n",
    "dt = pd.DataFrame(dt,index = [0])\n",
    "set_6_profit_week = pd.concat([dt,set_6_profit_week]).reset_index(drop = True)\n",
    "set_6_profit_month = pd.concat([dt,set_6_profit_month]).reset_index(drop = True)\n",
    "set_6_profit_df = pd.concat([set_6_profit_week,set_6_profit_month]).reset_index(drop = True)"
   ]
  },
  {
   "cell_type": "code",
   "execution_count": null,
   "metadata": {},
   "outputs": [],
   "source": [
    "set_6_profit_df.index = new_index\n",
    "set_6_profit_df.to_csv('SET_6_PROFIT_WEEK_MONTH.csv')"
   ]
  },
  {
   "cell_type": "markdown",
   "metadata": {},
   "source": [
    "# SET 7"
   ]
  },
  {
   "cell_type": "code",
   "execution_count": null,
   "metadata": {},
   "outputs": [],
   "source": [
    "SET_7 = pd.DataFrame()\n",
    "com = list(itertools.combinations(col,7))\n",
    "len(com)"
   ]
  },
  {
   "cell_type": "code",
   "execution_count": null,
   "metadata": {},
   "outputs": [],
   "source": [
    "for i in tqdm(range(len(com))):\n",
    "    SET_7[com[i][0] + '+' + com[i][1] + '+' + com[i][2] + '+' + com[i][3] + '+' + com[i][4] + '+' + com[i][5] + '+' + com[i][6]]= data[com[i][0]] + data[com[i][1]] + data[com[i][2]] + data[com[i][3]] + data[com[i][4]] + data[com[i][5] + data[com[i][6]]] "
   ]
  },
  {
   "cell_type": "markdown",
   "metadata": {},
   "source": [
    "## PROFIT"
   ]
  },
  {
   "cell_type": "markdown",
   "metadata": {},
   "source": [
    "### 1] DAILY"
   ]
  },
  {
   "cell_type": "code",
   "execution_count": null,
   "metadata": {},
   "outputs": [],
   "source": [
    "SET_7_PROFIT_DAILY = []\n",
    "for i in tqdm(range(len(SET_7.columns))):\n",
    "    SET_7_PROFIT_DAILY.append(sum(SET_7.iloc[:,i]))"
   ]
  },
  {
   "cell_type": "markdown",
   "metadata": {},
   "source": [
    "### 2] WEEK"
   ]
  },
  {
   "cell_type": "code",
   "execution_count": null,
   "metadata": {},
   "outputs": [],
   "source": [
    "SET_7_PROFIT_WEEK = []\n",
    "for i in range(len(SET_7.columns)):\n",
    "    SET_7_PROFIT_WEEK.append([])\n",
    "\n",
    "for i in tqdm(range(len(SET_7.columns))):\n",
    "    for k in week_index:\n",
    "        SET_7_PROFIT_WEEK[i].append(sum(SET_7.iloc[k,i]))\n",
    "\n",
    "set_7_profit_week = pd.DataFrame(data = SET_7_PROFIT_WEEK)\n",
    "set_7_profit_week = set_7_profit_week.T \n",
    "set_7_profit_week = pd.DataFrame(data = set_7_profit_week)\n",
    "set_7_profit_week.columns = com"
   ]
  },
  {
   "cell_type": "markdown",
   "metadata": {},
   "source": [
    "### 3] MONTH"
   ]
  },
  {
   "cell_type": "code",
   "execution_count": null,
   "metadata": {},
   "outputs": [],
   "source": [
    "SET_7_PROFIT_MONTH = []\n",
    "for i in range(len(SET_7.columns)):\n",
    "    SET_7_PROFIT_MONTH.append([])    \n",
    "\n",
    "for i in tqdm(range(len(SET_7.columns))):\n",
    "    for k in month_index:\n",
    "        SET_7_PROFIT_MONTH[i].append(sum(SET_7.iloc[k,i]))\n",
    "\n",
    "set_7_profit_month = pd.DataFrame(data = SET_7_PROFIT_MONTH)\n",
    "set_7_profit_month = set_7_profit_month.T \n",
    "set_7_profit_month = pd.DataFrame(data = set_7_profit_month)\n",
    "set_7_profit_month.columns = com"
   ]
  },
  {
   "cell_type": "markdown",
   "metadata": {},
   "source": [
    "## STRIKE RATE SCORE"
   ]
  },
  {
   "cell_type": "markdown",
   "metadata": {},
   "source": [
    "### 1] DAILY"
   ]
  },
  {
   "cell_type": "code",
   "execution_count": null,
   "metadata": {},
   "outputs": [],
   "source": [
    "set_7_daily = []\n",
    "for j in tqdm(range(len(SET_7.columns))):\n",
    "    a = 0\n",
    "    for i in range(len(SET_7)):\n",
    "        if (SET_7.iloc[i,j] > 0):\n",
    "            a = a + 1\n",
    "    set_7_daily.append(a*100/len(SET_7))"
   ]
  },
  {
   "cell_type": "markdown",
   "metadata": {},
   "source": [
    "### 2] WEEK"
   ]
  },
  {
   "cell_type": "code",
   "execution_count": null,
   "metadata": {},
   "outputs": [],
   "source": [
    "SET_7_PROFIT_DAYS_WEEK= []\n",
    "SET_7_STRIKE_RATE_SCORE_WEEK = []\n",
    "for i in range(len(SET_7.columns)):\n",
    "    SET_7_PROFIT_DAYS_WEEK.append([])\n",
    "    SET_7_STRIKE_RATE_SCORE_WEEK.append([])\n",
    "\n",
    "for j in tqdm(range(len(SET_7.columns))):\n",
    "    for i in week_index:\n",
    "        a = 0\n",
    "        for k in range(len(i)):\n",
    "            if (SET_7.iloc[i[k],j] > 0):\n",
    "                a = a + 1\n",
    "        SET_7_PROFIT_DAYS_WEEK[j].append(a)\n",
    "        SET_7_STRIKE_RATE_SCORE_WEEK[j].append((a/len(i)*100))"
   ]
  },
  {
   "cell_type": "code",
   "execution_count": null,
   "metadata": {},
   "outputs": [],
   "source": [
    "set_7_ss_week = pd.DataFrame(data = SET_7_STRIKE_RATE_SCORE_WEEK)\n",
    "set_7_ss_week = set_7_ss_week.T \n",
    "set_7_ss_week = pd.DataFrame(data = set_7_ss_week)\n",
    "set_7_ss_week.columns = com\n",
    "\n",
    "set_7_week = []\n",
    "for j in tqdm(range(len(set_7_ss_week.columns))):\n",
    "    a = 0\n",
    "    for i in range(len(set_7_ss_week)):\n",
    "        if (set_7_profit_week.iloc[i,j] > 0):\n",
    "            a = a + 1\n",
    "    set_7_week.append(a*100/len(set_7_ss_week)) \n",
    "print(len(set_7_week))"
   ]
  },
  {
   "cell_type": "markdown",
   "metadata": {},
   "source": [
    "### 3] MONTH"
   ]
  },
  {
   "cell_type": "code",
   "execution_count": null,
   "metadata": {},
   "outputs": [],
   "source": [
    "SET_7_PROFIT_DAYS_MONTH = []\n",
    "SET_7_STRIKE_RATE_SCORE_MONTH = []\n",
    "for i in range(len(SET_7.columns)):\n",
    "    SET_7_PROFIT_DAYS_MONTH.append([])\n",
    "    SET_7_STRIKE_RATE_SCORE_MONTH.append([])\n",
    "\n",
    "for j in tqdm(range(len(SET_7.columns))):\n",
    "    for i in month_index:\n",
    "        a = 0\n",
    "        for k in range(len(i)):\n",
    "            if (SET_7.iloc[i[k],j] > 0):\n",
    "                a = a + 1\n",
    "        SET_7_PROFIT_DAYS_MONTH[j].append(a)\n",
    "        SET_7_STRIKE_RATE_SCORE_MONTH[j].append((a/len(i)*100))"
   ]
  },
  {
   "cell_type": "code",
   "execution_count": null,
   "metadata": {},
   "outputs": [],
   "source": [
    "set_7_ss_month = pd.DataFrame(data = SET_7_STRIKE_RATE_SCORE_MONTH)\n",
    "set_7_ss_month = set_7_ss_month.T \n",
    "set_7_ss_month = pd.DataFrame(data = set_7_ss_month)\n",
    "set_7_ss_month.columns = com\n",
    "\n",
    "set_7_month = []\n",
    "for j in tqdm(range(len(set_7_ss_month.columns))):\n",
    "    a = 0\n",
    "    for i in range(len(set_7_ss_month)):\n",
    "        if (set_7_profit_month.iloc[i,j] > 0):\n",
    "            a = a + 1\n",
    "    set_7_month.append(a*100/len(set_7_ss_month)) \n",
    "print(len(set_7_month))"
   ]
  },
  {
   "cell_type": "markdown",
   "metadata": {},
   "source": [
    "## FINAL CSV FILE"
   ]
  },
  {
   "cell_type": "code",
   "execution_count": null,
   "metadata": {},
   "outputs": [],
   "source": [
    "d = {SET_7.columns[i]:SET_7_PROFIT_DAILY[i] for i in range(len(SET_7.columns))}\n",
    "d = pd.DataFrame(d,index = [0])\n",
    "SET_7 = pd.concat([d,SET_7]).reset_index(drop = True)\n",
    "\n",
    "d = {SET_7.columns[i]:set_7_month[i] for i in range(len(SET_7.columns))}\n",
    "d = pd.DataFrame(d,index = [0])\n",
    "SET_7 = pd.concat([d,SET_7]).reset_index(drop = True)\n",
    "\n",
    "d = {SET_7.columns[i]:set_7_week[i] for i in range(len(SET_7.columns))}\n",
    "d = pd.DataFrame(d,index = [0])\n",
    "SET_7 = pd.concat([d,SET_7]).reset_index(drop = True)\n",
    "\n",
    "d = {SET_7.columns[i]:set_7_daily[i] for i in range(len(SET_7.columns))}\n",
    "d = pd.DataFrame(d,index = [0])\n",
    "SET_7 = pd.concat([d,SET_7]).reset_index(drop = True)"
   ]
  },
  {
   "cell_type": "code",
   "execution_count": null,
   "metadata": {},
   "outputs": [],
   "source": [
    "SET_7.index = index\n",
    "SET_7 = SET_7.T\n",
    "SET_7.to_csv('SET_7.csv')"
   ]
  },
  {
   "cell_type": "code",
   "execution_count": null,
   "metadata": {},
   "outputs": [],
   "source": [
    "dt = {com[i]:'-' for i in range(len(com))}\n",
    "dt = pd.DataFrame(dt,index = [0])\n",
    "set_7_profit_week = pd.concat([dt,set_7_profit_week]).reset_index(drop = True)\n",
    "set_7_profit_month = pd.concat([dt,set_7_profit_month]).reset_index(drop = True)\n",
    "set_7_profit_df = pd.concat([set_7_profit_week,set_7_profit_month]).reset_index(drop = True)"
   ]
  },
  {
   "cell_type": "code",
   "execution_count": null,
   "metadata": {},
   "outputs": [],
   "source": [
    "set_7_profit_df.index = new_index\n",
    "set_7_profit_df.to_csv('SET_7_PROFIT_WEEK_MONTH.csv')"
   ]
  },
  {
   "cell_type": "markdown",
   "metadata": {},
   "source": [
    "# END"
   ]
  }
 ],
 "metadata": {
  "kernelspec": {
   "display_name": "Python 3",
   "language": "python",
   "name": "python3"
  },
  "language_info": {
   "codemirror_mode": {
    "name": "ipython",
    "version": 3
   },
   "file_extension": ".py",
   "mimetype": "text/x-python",
   "name": "python",
   "nbconvert_exporter": "python",
   "pygments_lexer": "ipython3",
   "version": "3.7.6"
  }
 },
 "nbformat": 4,
 "nbformat_minor": 4
}
